{
 "cells": [
  {
   "cell_type": "markdown",
   "metadata": {},
   "source": [
    "# Intrduction to NumPy\n",
    "\n",
    "\n",
    "#### 1. Import NumPy under the name np."
   ]
  },
  {
   "cell_type": "code",
   "execution_count": 2,
   "metadata": {},
   "outputs": [],
   "source": [
    "import numpy as np"
   ]
  },
  {
   "cell_type": "markdown",
   "metadata": {},
   "source": [
    "#### 2. Print your NumPy version."
   ]
  },
  {
   "cell_type": "code",
   "execution_count": 3,
   "metadata": {},
   "outputs": [
    {
     "data": {
      "text/plain": [
       "'1.18.5'"
      ]
     },
     "execution_count": 3,
     "metadata": {},
     "output_type": "execute_result"
    }
   ],
   "source": [
    "np.version.version"
   ]
  },
  {
   "cell_type": "markdown",
   "metadata": {},
   "source": [
    "#### 3. Generate a 2x3x5 3-dimensional array with random values. Assign the array to variable *a*.\n",
    "**Challenge**: there are at least three easy ways that use numpy to generate random arrays. How many ways can you find?"
   ]
  },
  {
   "cell_type": "code",
   "execution_count": 4,
   "metadata": {},
   "outputs": [
    {
     "data": {
      "text/plain": [
       "array([[[0.10636637, 0.4342913 , 0.16204783, 0.87309934, 0.58609425],\n",
       "        [0.07007362, 0.94078042, 0.47125589, 0.77110435, 0.77823225],\n",
       "        [0.74753253, 0.37094754, 0.39287408, 0.78947608, 0.5763445 ]],\n",
       "\n",
       "       [[0.87569457, 0.45613031, 0.94309214, 0.2403313 , 0.22754336],\n",
       "        [0.98963296, 0.47082716, 0.25839404, 0.27983093, 0.26871957],\n",
       "        [0.9697306 , 0.47290429, 0.90850089, 0.56223022, 0.42335221]]])"
      ]
     },
     "execution_count": 4,
     "metadata": {},
     "output_type": "execute_result"
    }
   ],
   "source": [
    "a=np.random.random((2,3,5))\n",
    "a"
   ]
  },
  {
   "cell_type": "code",
   "execution_count": 5,
   "metadata": {},
   "outputs": [
    {
     "data": {
      "text/plain": [
       "array([[[0.45021654, 0.49117507, 0.58893872, 0.76900336, 0.32949575],\n",
       "        [0.11963311, 0.59351904, 0.43342435, 0.63074584, 0.50899715],\n",
       "        [0.37938587, 0.74609766, 0.38142219, 0.87739178, 0.50997925]],\n",
       "\n",
       "       [[0.88565728, 0.34767454, 0.56030177, 0.66002596, 0.72186927],\n",
       "        [0.29134062, 0.87379484, 0.21540628, 0.48566869, 0.68628598],\n",
       "        [0.86504355, 0.97108188, 0.77059903, 0.66886133, 0.51230763]]])"
      ]
     },
     "execution_count": 5,
     "metadata": {},
     "output_type": "execute_result"
    }
   ],
   "source": [
    "a2=np.random.rand(2,3,5)\n",
    "a2"
   ]
  },
  {
   "cell_type": "code",
   "execution_count": 7,
   "metadata": {},
   "outputs": [
    {
     "name": "stdout",
     "output_type": "stream",
     "text": [
      "[[[0.45021654 0.49117507 0.58893872 0.76900336 0.32949575]\n",
      "  [0.11963311 0.59351904 0.43342435 0.63074584 0.50899715]\n",
      "  [0.37938587 0.74609766 0.38142219 0.87739178 0.50997925]]\n",
      "\n",
      " [[0.88565728 0.34767454 0.56030177 0.66002596 0.72186927]\n",
      "  [0.29134062 0.87379484 0.21540628 0.48566869 0.68628598]\n",
      "  [0.86504355 0.97108188 0.77059903 0.66886133 0.51230763]]]\n"
     ]
    }
   ],
   "source": [
    "a3 = np.empty((2,3,5))\n",
    "print(a3)"
   ]
  },
  {
   "cell_type": "markdown",
   "metadata": {},
   "source": [
    "#### 4. Print *a*.\n"
   ]
  },
  {
   "cell_type": "code",
   "execution_count": 8,
   "metadata": {},
   "outputs": [
    {
     "name": "stdout",
     "output_type": "stream",
     "text": [
      "[[[0.10636637 0.4342913  0.16204783 0.87309934 0.58609425]\n",
      "  [0.07007362 0.94078042 0.47125589 0.77110435 0.77823225]\n",
      "  [0.74753253 0.37094754 0.39287408 0.78947608 0.5763445 ]]\n",
      "\n",
      " [[0.87569457 0.45613031 0.94309214 0.2403313  0.22754336]\n",
      "  [0.98963296 0.47082716 0.25839404 0.27983093 0.26871957]\n",
      "  [0.9697306  0.47290429 0.90850089 0.56223022 0.42335221]]]\n"
     ]
    }
   ],
   "source": [
    "print(a)"
   ]
  },
  {
   "cell_type": "markdown",
   "metadata": {},
   "source": [
    "#### 5. Create a 5x2x3 3-dimensional array with all values equaling 1. Assign the array to variable *b*."
   ]
  },
  {
   "cell_type": "code",
   "execution_count": 12,
   "metadata": {},
   "outputs": [],
   "source": [
    "b=np.ones((5,2,3))"
   ]
  },
  {
   "cell_type": "markdown",
   "metadata": {},
   "source": [
    "#### 6. Print *b*.\n"
   ]
  },
  {
   "cell_type": "code",
   "execution_count": 13,
   "metadata": {},
   "outputs": [
    {
     "data": {
      "text/plain": [
       "array([[[1., 1., 1.],\n",
       "        [1., 1., 1.]],\n",
       "\n",
       "       [[1., 1., 1.],\n",
       "        [1., 1., 1.]],\n",
       "\n",
       "       [[1., 1., 1.],\n",
       "        [1., 1., 1.]],\n",
       "\n",
       "       [[1., 1., 1.],\n",
       "        [1., 1., 1.]],\n",
       "\n",
       "       [[1., 1., 1.],\n",
       "        [1., 1., 1.]]])"
      ]
     },
     "execution_count": 13,
     "metadata": {},
     "output_type": "execute_result"
    }
   ],
   "source": [
    "b"
   ]
  },
  {
   "cell_type": "markdown",
   "metadata": {},
   "source": [
    "#### 7. Do *a* and *b* have the same size? How do you prove that in Python code?"
   ]
  },
  {
   "cell_type": "code",
   "execution_count": 16,
   "metadata": {},
   "outputs": [
    {
     "name": "stdout",
     "output_type": "stream",
     "text": [
      "30\n",
      "30\n",
      "Same size\n"
     ]
    }
   ],
   "source": [
    "size_a=a.size\n",
    "size_b=b.size\n",
    "\n",
    "if size_b==size_a:\n",
    "    print('Same size')\n",
    "else:\n",
    "    print('Not the same size')"
   ]
  },
  {
   "cell_type": "markdown",
   "metadata": {},
   "source": [
    "#### 8. Are you able to add *a* and *b*? Why or why not?\n"
   ]
  },
  {
   "cell_type": "code",
   "execution_count": 18,
   "metadata": {},
   "outputs": [
    {
     "data": {
      "text/plain": [
       "'We can only add arrays with the same shape'"
      ]
     },
     "execution_count": 18,
     "metadata": {},
     "output_type": "execute_result"
    }
   ],
   "source": [
    "#We can only add arrays with the same shape"
   ]
  },
  {
   "cell_type": "markdown",
   "metadata": {},
   "source": [
    "#### 9. Transpose *b* so that it has the same structure of *a* (i.e. become a 2x3x5 array). Assign the transposed array to variable *c*."
   ]
  },
  {
   "cell_type": "code",
   "execution_count": 15,
   "metadata": {},
   "outputs": [],
   "source": [
    "c=np.reshape(b,(2,3,5))"
   ]
  },
  {
   "cell_type": "markdown",
   "metadata": {},
   "source": [
    "#### 10. Try to add *a* and *c*. Now it should work. Assign the sum to variable *d*. But why does it work now?"
   ]
  },
  {
   "cell_type": "code",
   "execution_count": 20,
   "metadata": {},
   "outputs": [],
   "source": [
    "d=np.add(a,c)\n",
    "#Works because 'a' and 'c' have the same shape"
   ]
  },
  {
   "cell_type": "markdown",
   "metadata": {},
   "source": [
    "#### 11. Print *a* and *d*. Notice the difference and relation of the two array in terms of the values? Explain."
   ]
  },
  {
   "cell_type": "code",
   "execution_count": 26,
   "metadata": {},
   "outputs": [
    {
     "name": "stdout",
     "output_type": "stream",
     "text": [
      "a= [[[0.10636637 0.4342913  0.16204783 0.87309934 0.58609425]\n",
      "  [0.07007362 0.94078042 0.47125589 0.77110435 0.77823225]\n",
      "  [0.74753253 0.37094754 0.39287408 0.78947608 0.5763445 ]]\n",
      "\n",
      " [[0.87569457 0.45613031 0.94309214 0.2403313  0.22754336]\n",
      "  [0.98963296 0.47082716 0.25839404 0.27983093 0.26871957]\n",
      "  [0.9697306  0.47290429 0.90850089 0.56223022 0.42335221]]] \n",
      "\n",
      " d= [[[1.10636637 1.4342913  1.16204783 1.87309934 1.58609425]\n",
      "  [1.07007362 1.94078042 1.47125589 1.77110435 1.77823225]\n",
      "  [1.74753253 1.37094754 1.39287408 1.78947608 1.5763445 ]]\n",
      "\n",
      " [[1.87569457 1.45613031 1.94309214 1.2403313  1.22754336]\n",
      "  [1.98963296 1.47082716 1.25839404 1.27983093 1.26871957]\n",
      "  [1.9697306  1.47290429 1.90850089 1.56223022 1.42335221]]]\n"
     ]
    }
   ],
   "source": [
    "print('a=',a,'\\n\\n','d=',d)\n",
    "#the array 'd' is the sum of array 'a' and 'c' where all elements are the int=1"
   ]
  },
  {
   "cell_type": "markdown",
   "metadata": {},
   "source": [
    "#### 12. Multiply *a* and *c*. Assign the result to *e*."
   ]
  },
  {
   "cell_type": "code",
   "execution_count": 27,
   "metadata": {},
   "outputs": [],
   "source": [
    "e=np.multiply(a,c)"
   ]
  },
  {
   "cell_type": "markdown",
   "metadata": {},
   "source": [
    "#### 13. Does *e* equal to *a*? Why or why not?\n"
   ]
  },
  {
   "cell_type": "code",
   "execution_count": 29,
   "metadata": {},
   "outputs": [
    {
     "name": "stdout",
     "output_type": "stream",
     "text": [
      "[[[0.10636637 0.4342913  0.16204783 0.87309934 0.58609425]\n",
      "  [0.07007362 0.94078042 0.47125589 0.77110435 0.77823225]\n",
      "  [0.74753253 0.37094754 0.39287408 0.78947608 0.5763445 ]]\n",
      "\n",
      " [[0.87569457 0.45613031 0.94309214 0.2403313  0.22754336]\n",
      "  [0.98963296 0.47082716 0.25839404 0.27983093 0.26871957]\n",
      "  [0.9697306  0.47290429 0.90850089 0.56223022 0.42335221]]]\n"
     ]
    }
   ],
   "source": [
    "print(e)\n",
    "#They are equal, because when 'c' is neutral in multiplication (i.e==1)"
   ]
  },
  {
   "cell_type": "markdown",
   "metadata": {},
   "source": [
    "#### 14. Identify the max, min, and mean values in *d*. Assign those values to variables *d_max*, *d_min* and *d_mean*."
   ]
  },
  {
   "cell_type": "code",
   "execution_count": 38,
   "metadata": {},
   "outputs": [],
   "source": [
    "d_max=np.max(d)\n",
    "d_min=np.min(d)\n",
    "d_mean=np.mean(d)"
   ]
  },
  {
   "cell_type": "markdown",
   "metadata": {},
   "source": [
    "#### 15. Now we want to label the values in *d*. First create an empty array *f* with the same shape (i.e. 2x3x5) as *d* using `np.empty`.\n"
   ]
  },
  {
   "cell_type": "code",
   "execution_count": 36,
   "metadata": {},
   "outputs": [],
   "source": [
    "f=np.empty((2,3,5))\n"
   ]
  },
  {
   "cell_type": "markdown",
   "metadata": {},
   "source": [
    "#### 16. Populate the values in *f*. \n",
    "\n",
    "For each value in *d*, if it's larger than *d_min* but smaller than *d_mean*, assign 25 to the corresponding value in *f*. If a value in *d* is larger than *d_mean* but smaller than *d_max*, assign 75 to the corresponding value in *f*. If a value equals to *d_mean*, assign 50 to the corresponding value in *f*. Assign 0 to the corresponding value(s) in *f* for *d_min* in *d*. Assign 100 to the corresponding value(s) in *f* for *d_max* in *d*. In the end, f should have only the following values: 0, 25, 50, 75, and 100.\n",
    "\n",
    "**Note**: you don't have to use Numpy in this question."
   ]
  },
  {
   "cell_type": "code",
   "execution_count": 44,
   "metadata": {},
   "outputs": [],
   "source": [
    "f=np.copy(d)\n",
    "f[f==d_min]=0\n",
    "f[f==d_mean]=50\n",
    "f[f==d_max]=100\n",
    "f[(f>d_min)&(f<d_mean)]=25\n",
    "f[(f>d_mean)&(f<d_max)]=75"
   ]
  },
  {
   "cell_type": "markdown",
   "metadata": {},
   "source": [
    "#### 17. Print *d* and *f*. Do you have your expected *f*?\n",
    "For instance, if your *d* is:\n",
    "```python\n",
    "[[[1.85836099, 1.67064465, 1.62576044, 1.40243961, 1.88454931],\n",
    "[1.75354326, 1.69403643, 1.36729252, 1.61415071, 1.12104981],\n",
    "[1.72201435, 1.1862918 , 1.87078449, 1.7726778 , 1.88180042]],\n",
    "[[1.44747908, 1.31673383, 1.02000951, 1.52218947, 1.97066381],\n",
    "[1.79129243, 1.74983003, 1.96028037, 1.85166831, 1.65450881],\n",
    "[1.18068344, 1.9587381 , 1.00656599, 1.93402165, 1.73514584]]]\n",
    "```\n",
    "Your *f* should be:\n",
    "```python\n",
    "[[[ 75.,  75.,  75.,  25.,  75.],\n",
    "[ 75.,  75.,  25.,  25.,  25.],\n",
    "[ 75.,  25.,  75.,  75.,  75.]],\n",
    "[[ 25.,  25.,  25.,  25., 100.],\n",
    "[ 75.,  75.,  75.,  75.,  75.],\n",
    "[ 25.,  75.,   0.,  75.,  75.]]]\n",
    "```"
   ]
  },
  {
   "cell_type": "code",
   "execution_count": 46,
   "metadata": {},
   "outputs": [
    {
     "name": "stdout",
     "output_type": "stream",
     "text": [
      "[[[1.10636637 1.4342913  1.16204783 1.87309934 1.58609425]\n",
      "  [1.07007362 1.94078042 1.47125589 1.77110435 1.77823225]\n",
      "  [1.74753253 1.37094754 1.39287408 1.78947608 1.5763445 ]]\n",
      "\n",
      " [[1.87569457 1.45613031 1.94309214 1.2403313  1.22754336]\n",
      "  [1.98963296 1.47082716 1.25839404 1.27983093 1.26871957]\n",
      "  [1.9697306  1.47290429 1.90850089 1.56223022 1.42335221]]]\n",
      "[[[ 25.  25.  25.  75.  75.]\n",
      "  [  0.  75.  25.  75.  75.]\n",
      "  [ 75.  25.  25.  75.  75.]]\n",
      "\n",
      " [[ 75.  25.  75.  25.  25.]\n",
      "  [100.  25.  25.  25.  25.]\n",
      "  [ 75.  25.  75.  75.  25.]]]\n"
     ]
    }
   ],
   "source": [
    "print(d)\n",
    "print(f)"
   ]
  },
  {
   "cell_type": "markdown",
   "metadata": {},
   "source": [
    "#### 18. Bonus question: instead of using numbers (i.e. 0, 25, 50, 75, and 100), use string values  (\"A\", \"B\", \"C\", \"D\", and \"E\") to label the array elements. For the example above, the expected result is:\n",
    "\n",
    "```python\n",
    "[[[ 'D',  'D',  'D',  'B',  'D'],\n",
    "[ 'D',  'D',  'B',  'B',  'B'],\n",
    "[ 'D',  'B',  'D',  'D',  'D']],\n",
    "[[ 'B',  'B',  'B',  'B',  'E'],\n",
    "[ 'D',  'D',  'D',  'D',  'D'],\n",
    "[ 'B',  'D',   'A',  'D', 'D']]]\n",
    "```\n",
    "**Note**: you don't have to use Numpy in this question."
   ]
  },
  {
   "cell_type": "code",
   "execution_count": null,
   "metadata": {},
   "outputs": [],
   "source": [
    "# your code here"
   ]
  }
 ],
 "metadata": {
  "kernelspec": {
   "display_name": "Python 3",
   "language": "python",
   "name": "python3"
  },
  "language_info": {
   "codemirror_mode": {
    "name": "ipython",
    "version": 3
   },
   "file_extension": ".py",
   "mimetype": "text/x-python",
   "name": "python",
   "nbconvert_exporter": "python",
   "pygments_lexer": "ipython3",
   "version": "3.8.3"
  }
 },
 "nbformat": 4,
 "nbformat_minor": 2
}
